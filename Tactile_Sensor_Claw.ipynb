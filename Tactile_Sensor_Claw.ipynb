{
 "nbformat": 4,
 "nbformat_minor": 0,
 "metadata": {
  "colab": {
   "provenance": [],
   "collapsed_sections": []
  },
  "kernelspec": {
   "name": "python3",
   "display_name": "Python 3"
  },
  "language_info": {
   "name": "python"
  },
  "accelerator": "GPU",
  "gpuClass": "standard"
 },
 "cells": [
  {
   "cell_type": "markdown",
   "source": [
    "# 1.初始化环境\n",
    "只考虑Colab环境, 不考虑本地NoteBook。\n",
    "\n",
    "## 1.1 显卡驱动检查\n",
    "查看CUDA版本以供PyTorch安装使用。\n",
    "\n",
    "如果执行失败, 检查运行时中是否正确选择GPU。\n",
    "\n",
    "## 1.2 PyTorch安装\n",
    "[PyTorch官网](https://pytorch.org/)\n",
    "\n",
    "暂时配置: Stable、Linux、Pip、Python、CUDA 11.3\n",
    "\n",
    "使用官网给出的命令安装\n",
    "\n",
    "## 1.3 挂载Google Drive\n",
    "1. 不更改工作目录, 网络I/O通讯太慢。\n",
    "2. 训练集直接拷贝到Colab本地。\n",
    "3. **断点路径一定在Google Drive而不是Colab本地。**\n",
    "\n",
    "以上问题在Config类中配置。"
   ],
   "metadata": {
    "id": "IkqlteS5WSom",
    "pycharm": {
     "name": "#%% md\n"
    }
   }
  },
  {
   "cell_type": "code",
   "execution_count": null,
   "metadata": {
    "id": "0qWOjU9qT3DO",
    "colab": {
     "base_uri": "https://localhost:8080/"
    },
    "outputId": "e5a72146-0e40-4e86-bc52-2f8a16383c34",
    "pycharm": {
     "name": "#%%\n"
    }
   },
   "outputs": [
    {
     "output_type": "stream",
     "name": "stdout",
     "text": [
      "Tue Sep  6 08:34:59 2022       \n",
      "+-----------------------------------------------------------------------------+\n",
      "| NVIDIA-SMI 460.32.03    Driver Version: 460.32.03    CUDA Version: 11.2     |\n",
      "|-------------------------------+----------------------+----------------------+\n",
      "| GPU  Name        Persistence-M| Bus-Id        Disp.A | Volatile Uncorr. ECC |\n",
      "| Fan  Temp  Perf  Pwr:Usage/Cap|         Memory-Usage | GPU-Util  Compute M. |\n",
      "|                               |                      |               MIG M. |\n",
      "|===============================+======================+======================|\n",
      "|   0  Tesla P100-PCIE...  Off  | 00000000:00:04.0 Off |                    0 |\n",
      "| N/A   36C    P0    26W / 250W |      0MiB / 16280MiB |      0%      Default |\n",
      "|                               |                      |                  N/A |\n",
      "+-------------------------------+----------------------+----------------------+\n",
      "                                                                               \n",
      "+-----------------------------------------------------------------------------+\n",
      "| Processes:                                                                  |\n",
      "|  GPU   GI   CI        PID   Type   Process name                  GPU Memory |\n",
      "|        ID   ID                                                   Usage      |\n",
      "|=============================================================================|\n",
      "|  No running processes found                                                 |\n",
      "+-----------------------------------------------------------------------------+\n"
     ]
    }
   ],
   "source": [
    "# 1.1显卡驱动检查\n",
    "!nvidia-smi"
   ]
  },
  {
   "cell_type": "code",
   "source": [
    "# 1.2 PyTorch安装\n",
    "!pip3 install torch torchvision torchaudio --extra-index-url https://download.pytorch.org/whl/cu113"
   ],
   "metadata": {
    "id": "XMLuWLLceZhx",
    "colab": {
     "base_uri": "https://localhost:8080/"
    },
    "outputId": "ba771789-1801-4438-d1c7-dae92a40f3a0",
    "pycharm": {
     "name": "#%%\n"
    }
   },
   "execution_count": null,
   "outputs": [
    {
     "output_type": "stream",
     "name": "stdout",
     "text": [
      "Looking in indexes: https://pypi.org/simple, https://us-python.pkg.dev/colab-wheels/public/simple/, https://download.pytorch.org/whl/cu113\n",
      "Requirement already satisfied: torch in /usr/local/lib/python3.7/dist-packages (1.12.1+cu113)\n",
      "Requirement already satisfied: torchvision in /usr/local/lib/python3.7/dist-packages (0.13.1+cu113)\n",
      "Requirement already satisfied: torchaudio in /usr/local/lib/python3.7/dist-packages (0.12.1+cu113)\n",
      "Requirement already satisfied: typing-extensions in /usr/local/lib/python3.7/dist-packages (from torch) (4.1.1)\n",
      "Requirement already satisfied: pillow!=8.3.*,>=5.3.0 in /usr/local/lib/python3.7/dist-packages (from torchvision) (7.1.2)\n",
      "Requirement already satisfied: requests in /usr/local/lib/python3.7/dist-packages (from torchvision) (2.23.0)\n",
      "Requirement already satisfied: numpy in /usr/local/lib/python3.7/dist-packages (from torchvision) (1.21.6)\n",
      "Requirement already satisfied: chardet<4,>=3.0.2 in /usr/local/lib/python3.7/dist-packages (from requests->torchvision) (3.0.4)\n",
      "Requirement already satisfied: idna<3,>=2.5 in /usr/local/lib/python3.7/dist-packages (from requests->torchvision) (2.10)\n",
      "Requirement already satisfied: urllib3!=1.25.0,!=1.25.1,<1.26,>=1.21.1 in /usr/local/lib/python3.7/dist-packages (from requests->torchvision) (1.24.3)\n",
      "Requirement already satisfied: certifi>=2017.4.17 in /usr/local/lib/python3.7/dist-packages (from requests->torchvision) (2022.6.15)\n"
     ]
    }
   ]
  },
  {
   "cell_type": "code",
   "source": [
    "# 1.3 挂载Google Drive\n",
    "from google.colab import drive\n",
    "drive.mount('/content/drive/')"
   ],
   "metadata": {
    "id": "gaVc5HXwgUBD",
    "pycharm": {
     "name": "#%%\n"
    }
   },
   "execution_count": null,
   "outputs": []
  },
  {
   "cell_type": "markdown",
   "source": [
    "# 2.代码部分"
   ],
   "metadata": {
    "id": "6Xi5weIv6jAh",
    "pycharm": {
     "name": "#%% md\n"
    }
   }
  },
  {
   "cell_type": "markdown",
   "source": [
    "## 2.1 路径的设置"
   ],
   "metadata": {
    "collapsed": false,
    "pycharm": {
     "name": "#%% md\n"
    }
   }
  },
  {
   "cell_type": "code",
   "source": [
    "import os\n",
    "\n",
    "GOOGLE_DRIVE_PATH = \"/content/drive/MyDrive\"\n",
    "PROJECT_NAME = \"fruit\"\n",
    "PROJECT_PATH = os.path.join(GOOGLE_DRIVE_PATH, PROJECT_NAME)\n",
    "\n",
    "# - fruit\n",
    "# +-- data\n",
    "# +-- label\n"
   ],
   "metadata": {
    "id": "DbpWir0G7htH",
    "pycharm": {
     "name": "#%%\n"
    }
   },
   "execution_count": null,
   "outputs": []
  },
  {
   "cell_type": "markdown",
   "source": [
    "## 2.2 load_from_drive及其配套函数"
   ],
   "metadata": {
    "collapsed": false,
    "pycharm": {
     "name": "#%% md\n"
    }
   }
  },
  {
   "cell_type": "code",
   "execution_count": null,
   "outputs": [],
   "source": [
    "import numpy as np\n",
    "import matplotlib.pyplot as plt"
   ],
   "metadata": {
    "collapsed": false,
    "pycharm": {
     "name": "#%%\n"
    }
   }
  },
  {
   "cell_type": "markdown",
   "source": [
    "### 2.2._\n",
    "这个标题用于缩进"
   ],
   "metadata": {
    "collapsed": false,
    "pycharm": {
     "name": "#%% md\n"
    }
   }
  },
  {
   "cell_type": "markdown",
   "source": [
    "#### 2.2.1 标签原始数据的读取与分析\n",
    "test_dict = load_labels_to_memomery(labels_path, is_preview=False)"
   ],
   "metadata": {
    "collapsed": false,
    "pycharm": {
     "name": "#%% md\n"
    }
   }
  },
  {
   "cell_type": "code",
   "execution_count": null,
   "outputs": [],
   "source": [
    "def load_labels_to_memomery(labels_path, is_preview=False):\n",
    "    if not os.path.exists(labels_path):\n",
    "        raise Exception(\"Labels path does not exist.\")\n",
    "\n",
    "    labels_dict = {}\n",
    "\n",
    "    for SET in os.listdir(os.path.join(labels_path)):\n",
    "        if SET[0] == \".\":  # 跳过隐藏文件\n",
    "            continue\n",
    "\n",
    "        SET_name = SET.split(\".\")[0]\n",
    "        if SET_name not in labels_dict:\n",
    "            labels_dict[SET_name] = []\n",
    "        read_from_file(os.path.join(labels_path, SET), labels_dict[SET_name])\n",
    "\n",
    "    if is_preview:\n",
    "        preview_labels(labels_dict)\n",
    "\n",
    "    return labels_dict\n",
    "\n",
    "\n",
    "def read_from_file(file_path, ls):\n",
    "    fl = open(file_path)\n",
    "\n",
    "    while True:\n",
    "        line = fl.readline()\n",
    "\n",
    "        if line == \"\":\n",
    "            break\n",
    "\n",
    "        line_without_n = line.split(\"\\n\")[0]\n",
    "        if line_without_n == \"\":\n",
    "            continue\n",
    "\n",
    "        commit = line_without_n.split(\"#\")\n",
    "        if len(commit) > 1:  # 被标记\n",
    "            ls.append([None])  # 填None\n",
    "            continue\n",
    "\n",
    "        label_line = commit[0]\n",
    "        index_and_labels = label_line.split(\":\")\n",
    "        if len(index_and_labels) < 2:\n",
    "            continue\n",
    "\n",
    "        labels = index_and_labels[-1].split(\" \")\n",
    "\n",
    "        ls.append([])\n",
    "        for label in labels:\n",
    "            if label != \"\":\n",
    "                ls[-1].append(float(label))\n",
    "\n",
    "    fl.close()\n",
    "\n",
    "\n",
    "def get_bar(ls, step, start=None, title=None):\n",
    "    if start is None:\n",
    "        start = int(min(ls))\n",
    "    else:\n",
    "        if start > int(min(ls)):\n",
    "            print(\"指定的起点太大, 我还没写处理\")\n",
    "            exit(0)\n",
    "\n",
    "    end = int(max(ls)) + 1\n",
    "\n",
    "    names = [str(x) for x in range(start, end, step)]\n",
    "    width = 0.75\n",
    "    x_ticks = np.arange(len(names))\n",
    "    # x_ticks一定要用numpy, 因为要做矩阵操作\n",
    "\n",
    "    values = [0 for _ in range(len(names))]\n",
    "    for var in ls:\n",
    "        values[int((var - start) / step)] += 1\n",
    "\n",
    "    # fig, ax = plt.subplots()\n",
    "    # bar = plt.bar(names, values)\n",
    "    bar = plt.bar(x_ticks + width / 2, values, width)  # 默认居中, 所以加1/2\n",
    "    plt.xticks(x_ticks, names)  # 还原names\n",
    "    plt.bar_label(bar, label_type=\"edge\")\n",
    "    if title is not None:\n",
    "        plt.title(title)\n",
    "    plt.show()\n",
    "\n",
    "\n",
    "def analysis(ls, step=5, title=None):\n",
    "    get_bar(ls, step, int(min(ls) / step) * step, title)\n",
    "\n",
    "\n",
    "def preview_labels(labels_dict, step=5):\n",
    "    all_data = [x\n",
    "                for key in labels_dict\n",
    "                for arr in labels_dict[key]\n",
    "                for x in arr\n",
    "                if x is not None]  # 我们将None异常算入\n",
    "    avg_data = [sum(arr) / len(arr)\n",
    "                for key in labels_dict\n",
    "                for arr in labels_dict[key]\n",
    "                if arr[0] is not None]\n",
    "    analysis(all_data, step, \"All Result Datas\")\n",
    "    analysis(avg_data, step, \"Average Result per Fruit Datas\")"
   ],
   "metadata": {
    "collapsed": false,
    "pycharm": {
     "name": "#%%\n"
    }
   }
  },
  {
   "cell_type": "markdown",
   "source": [
    "### 2.2 load_from_drive本体"
   ],
   "metadata": {
    "collapsed": false,
    "pycharm": {
     "name": "#%% md\n"
    }
   }
  },
  {
   "cell_type": "code",
   "execution_count": null,
   "outputs": [],
   "source": [
    "def load_from_drive(project_path):\n",
    "    pass"
   ],
   "metadata": {
    "collapsed": false,
    "pycharm": {
     "name": "#%%\n"
    }
   }
  },
  {
   "cell_type": "markdown",
   "source": [],
   "metadata": {
    "collapsed": false,
    "pycharm": {
     "name": "#%% md\n"
    }
   }
  },
  {
   "cell_type": "code",
   "execution_count": null,
   "outputs": [],
   "source": [
    "import time\n",
    "import torch\n",
    "from torch.nn import Module, LSTM, Linear, BatchNorm1d\n",
    "from torch.utils.data import DataLoader, TensorDataset  # 常用工具区关于data区\n",
    "import numpy as np  # 引入numpy\n",
    "from sklearn.model_selection import train_test_split\n",
    "\n"
   ],
   "metadata": {
    "collapsed": false,
    "pycharm": {
     "name": "#%%\n"
    }
   }
  },
  {
   "cell_type": "code",
   "execution_count": null,
   "outputs": [],
   "source": [],
   "metadata": {
    "collapsed": false,
    "pycharm": {
     "name": "#%%\n"
    }
   }
  },
  {
   "cell_type": "code",
   "source": [
    "class Lstm_model(Module):\n",
    "    def __init__(self):  # 初始化\n",
    "        super(Lstm_model, self).__init__()\n",
    "        self.lstm1 = LSTM(input_size=1000, hidden_size=512,\n",
    "                          num_layers=1, batch_first=True)\n",
    "        self.lstm2 = LSTM(input_size=1000, hidden_size=512,\n",
    "                          num_layers=1, batch_first=True)\n",
    "        self.lstm3 = LSTM(input_size=1000, hidden_size=512,\n",
    "                          num_layers=1, batch_first=True)\n",
    "        self.linear1 = Linear(in_features=512, out_features=1)\n",
    "        self.linear2 = Linear(in_features=512, out_features=1)\n",
    "        self.linear3 = Linear(in_features=512, out_features=1)\n",
    "        self.linear = Linear(in_features=18, out_features=1)\n",
    "        self.active = torch.nn.LeakyReLU()\n",
    "        self.bn = BatchNorm1d(num_features=18)\n",
    "\n",
    "    def forward(self, x, hidden=None):\n",
    "        x = x.reshape(1, -1, 1000)\n",
    "        # print(x.shape)\n",
    "        x01 = x[0, 0:6, :]\n",
    "        x02 = x[0, 6:12, :]\n",
    "        x03 = x[0, 12:18, :]\n",
    "        x01 = x01.reshape(1, -1, 1000)\n",
    "        x02 = x02.reshape(1, -1, 1000)\n",
    "        x03 = x03.reshape(1, -1, 1000)\n",
    "        x1, _ = self.lstm1(x01, hidden)\n",
    "        x2, _ = self.lstm2(x02, hidden)\n",
    "        x3, _ = self.lstm3(x03, hidden)\n",
    "        # print(x1.shape)\n",
    "        # print(x2.shape)\n",
    "        # print(x3.shape)\n",
    "        x1 = self.linear1(x1)\n",
    "        x1 = self.active(x1)\n",
    "        x2 = self.linear2(x2)\n",
    "        x2 = self.active(x2)\n",
    "        x3 = self.linear3(x3)\n",
    "        x3 = self.active(x3)\n",
    "        # print(x1.shape)\n",
    "        # print(x2.shape)\n",
    "        # print(x3.shape)\n",
    "        x = torch.cat((x1, x2, x3), dim=1).reshape(-1)\n",
    "        # print(x.shape)\n",
    "        x = self.linear(x)\n",
    "        # print(x.shape)\n",
    "        return x"
   ],
   "metadata": {
    "id": "a9bekYte9TUr",
    "pycharm": {
     "name": "#%%\n"
    }
   },
   "execution_count": null,
   "outputs": []
  },
  {
   "cell_type": "code",
   "source": [
    "device = torch.device('cuda:0')\n",
    "model = Lstm_model().to(device)\n",
    "\n",
    "dataset, labelset = load_from_drive(PROJECT_PATH)\n",
    "\n",
    "train_X, valid_X, train_Y, valid_Y = train_test_split(dataset, labelset,\n",
    "                                                      test_size=0.2, random_state=1)\n",
    "\n",
    "optimizer = torch.optim.Adam(model.parameters(), lr=0.00001)  # 学习率\n",
    "criterion = torch.nn.MSELoss()\n",
    "train_X, train_Y = torch.from_numpy(train_X).float(), torch.from_numpy(train_Y).float()\n",
    "train_loader = DataLoader(TensorDataset(train_X, train_Y), batch_size=1, shuffle=True)\n",
    "valid_X, valid_Y = torch.from_numpy(valid_X).float(), torch.from_numpy(valid_Y).float()\n",
    "valid_loader = DataLoader(TensorDataset(valid_X, valid_Y), batch_size=1, shuffle=True)\n"
   ],
   "metadata": {
    "id": "grjWmd5f9MhA",
    "pycharm": {
     "name": "#%%\n"
    }
   },
   "execution_count": null,
   "outputs": []
  }
 ]
}